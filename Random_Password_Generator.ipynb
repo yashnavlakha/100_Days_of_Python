{
 "cells": [
  {
   "cell_type": "code",
   "execution_count": 1,
   "id": "2680eb8e",
   "metadata": {},
   "outputs": [],
   "source": [
    "#Password Generator Project\n",
    "import random"
   ]
  },
  {
   "cell_type": "code",
   "execution_count": 2,
   "id": "88ce62f1",
   "metadata": {},
   "outputs": [],
   "source": [
    "letters = ['a', 'b', 'c', 'd', 'e', 'f', 'g', 'h', 'i', 'j', 'k', 'l', 'm', 'n', 'o', 'p', 'q', 'r', 's', 't', 'u', \n",
    "           'v', 'w', 'x', 'y', 'z', 'A', 'B', 'C', 'D', 'E', 'F', 'G', 'H', 'I', 'J', 'K', 'L', 'M', 'N', 'O', 'P', \n",
    "           'Q', 'R', 'S', 'T', 'U', 'V', 'W', 'X', 'Y', 'Z']"
   ]
  },
  {
   "cell_type": "code",
   "execution_count": 3,
   "id": "399670ef",
   "metadata": {},
   "outputs": [],
   "source": [
    "numbers = ['0', '1', '2', '3', '4', '5', '6', '7', '8', '9']\n"
   ]
  },
  {
   "cell_type": "code",
   "execution_count": 4,
   "id": "57d32706",
   "metadata": {},
   "outputs": [],
   "source": [
    "symbols = ['!', '#', '$', '%', '&', '(', ')', '*', '+']\n"
   ]
  },
  {
   "cell_type": "code",
   "execution_count": 5,
   "id": "e849cc76",
   "metadata": {},
   "outputs": [
    {
     "name": "stdout",
     "output_type": "stream",
     "text": [
      "Welcome to the PyPassword Generator!\n",
      "How many letters would you like in your password?\n",
      "4\n",
      "How many symbols would you like?\n",
      "5\n",
      "How many numbers would you like?\n",
      "3\n"
     ]
    }
   ],
   "source": [
    "print(\"Welcome to the PyPassword Generator!\")\n",
    "nr_letters= int(input(\"How many letters would you like in your password?\\n\")) \n",
    "nr_symbols = int(input(f\"How many symbols would you like?\\n\"))\n",
    "nr_numbers = int(input(f\"How many numbers would you like?\\n\"))"
   ]
  },
  {
   "cell_type": "code",
   "execution_count": 7,
   "id": "db1e89c6",
   "metadata": {},
   "outputs": [
    {
     "name": "stdout",
     "output_type": "stream",
     "text": [
      "Your password is: \n",
      " 8C!$5!r6Wf&)\n"
     ]
    }
   ],
   "source": [
    "pwd_letters = random.choices(letters, k=nr_letters)\n",
    "pwd_symbols = random.choices(symbols, k=nr_symbols)\n",
    "pwd_numbers = random.choices(numbers, k=nr_numbers)\n",
    "\n",
    "pwd = pwd_letters + pwd_numbers + pwd_symbols\n",
    "\n",
    "final_pwd = random.shuffle(pwd)\n",
    "\n",
    "final = ''\n",
    "\n",
    "for x in pwd:\n",
    "  final = final + x\n",
    "\n",
    "print(f\"Your password is: \\n {final}\")"
   ]
  },
  {
   "cell_type": "code",
   "execution_count": null,
   "id": "f9253509",
   "metadata": {},
   "outputs": [],
   "source": []
  }
 ],
 "metadata": {
  "kernelspec": {
   "display_name": "Python 3",
   "language": "python",
   "name": "python3"
  },
  "language_info": {
   "codemirror_mode": {
    "name": "ipython",
    "version": 3
   },
   "file_extension": ".py",
   "mimetype": "text/x-python",
   "name": "python",
   "nbconvert_exporter": "python",
   "pygments_lexer": "ipython3",
   "version": "3.8.8"
  }
 },
 "nbformat": 4,
 "nbformat_minor": 5
}
